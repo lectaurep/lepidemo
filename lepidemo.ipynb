{
 "cells": [
  {
   "cell_type": "markdown",
   "id": "bdaca6f3-b96a-459c-a05f-56bab6a8cae4",
   "metadata": {},
   "source": [
    "# LEPIDEMO : LECTAUREP PIPELINE DEMONSTRATOR\n",
    "\n",
    "Générer une édition XML TEI pour les répertoires des notaires de Paris traités dans le cadre du projet [LECTAUREP](https://lectaurep.hypotheses.org) de manière à passer automatiquement des transcriptions annotées dans le logiciel [eScriptorium](https://escriptorium.inria.fr) à des fichiers XML TEI conforme aux attentes du *framework* [TEI Publisher](https://teipublisher.com/index.html)"
   ]
  },
  {
   "cell_type": "markdown",
   "id": "23959c4f-ea28-4c09-9fb0-e05fd6800bae",
   "metadata": {
    "jp-MarkdownHeadingCollapsed": true,
    "tags": []
   },
   "source": [
    "## Préambule : description des données d'entrée"
   ]
  },
  {
   "cell_type": "markdown",
   "id": "10cf4107-252a-43f0-bc96-347f13055dcd",
   "metadata": {},
   "source": [
    "L'application eScriptorium permet d'exporter des fichiers XML PAGE à partir des données générées dans l'application. \n",
    "\n",
    "### Résumé des annotations propres au projet LECTAUREP\n",
    "\n",
    "Pour réaliser la suite de transformation qui va suivre et créer la structure en tableau, nous avons préalablement défini 9 types de régions et 2 types de lignes : \n",
    "\n",
    "| nom | niveau | usage | \n",
    "| --- | ------ | ----- |\n",
    "| `header` | region | définit la zone d'en-tête contenant du texte pré-imprimé |\n",
    "| `stamp` | region | définit une zone graphique correspondant à un timbre fiscal  <!--; permet de comprendre d'éventuelles interruptions dans les en-têtes--> |\n",
    "| `col_1` | region | pour la 1ère colonne du tableau, intitulée \"Numéros du répertoire\" |\n",
    "| `col_2` | region | pour la 2e colonne du tableau, intitulée \"Date de l'acte\" |\n",
    "| `col_3` | region | pour la 3e colonne du tableau, intitulée \"Nature et espèce des actes :/ en brevets\" |\n",
    "| `col_4` | region | pour la 4e colonne du tableau, intitulée \"Nature et espèce des actes :/ en minutes\" |\n",
    "| `col_5` | region | pour la 5e colonne du tableau, intitulée \"Noms, prénoms et domiciles des parties / indications, situations et prix des biens\" |\n",
    "| `col_6` | region | pour la 6e colonne du tableau, intitulée \"Relation de l'enregistrement / dates\" |\n",
    "| `col_7` | region | pour la 7e colonne du tableau, intitulée \"Relation de l'enregistrement / droits\" |\n",
    "| `marginal` | region | pour toute mention marginale |\n",
    "| `first_line` | line | pour chaque première ligne d'une entrée dans le répertoire |\n",
    "| `main_date` | line | pour chaque ligne indiquant l'année et le mois concerné par la page en cours |\n",
    "<!--| printed | line | |-->\n",
    "\n",
    "> le plus souvent, il n'y a qu'une ligne de type \"main_date\" par document, mais on peut aussi en trouver plusieurs.\n",
    "\n",
    "![illustration de l'utilisation des tags](https://gitlab.inria.fr/almanach/lectaurep/lepidemo/-/raw/master/images/region_and_line_tags.png)\n"
   ]
  },
  {
   "cell_type": "markdown",
   "id": "09d131ae-3fe9-4f92-9991-cd2d4d9680f1",
   "metadata": {},
   "source": [
    "### Rendu en XML PAGE\n",
    "\n",
    "Les annotations réalisées dans eScriptorium apparaissent dans les attributs `@custom` des noeuds `//TextLine` sous la forme d'objets de la classe \"structure\" : par exemple, pour les lignes annotés avec le tag \"firt_line\" l'attribut @custom contient : `custom=\"structure {type:first_line;}\"`.\n",
    "\n",
    "``` xml\n",
    "      <!-- ligne sans annotation -->\n",
    "      <TextLine id=\"eSc_line_d7e2b970\" >\n",
    "        <Coords points=\"1249,2811 1256,2763 1322,2785 1428,2763 1483,2789 1538,2767 1586,2789 1626,2767 1666,2789 1732,2771 1754,2789 1842,2789 1882,2771 1948,2785 1978,2771 2113,2771 2135,2793 2183,2771 2238,2793 2267,2771 2384,2771 2406,2793 2443,2793 2450,2826 2439,2848 2003,2848 1945,2833 1523,2844 1414,2829 1252,2840\"/>\n",
    "        <Baseline points=\"1250,2815 1527,2815 1589,2822 1886,2826 2454,2828\"/>\n",
    "        <TextEquiv>\n",
    "          <Unicode>Jenny Belin safe- à Paris 15 rue Picot à Abel à Paris 24 BdSt Denis</Unicode>\n",
    "        </TextEquiv>\n",
    "      </TextLine>\n",
    "\n",
    "      <!-- ligne annotées -->\n",
    "      <TextLine id=\"eSc_line_73523fc1\" custom=\"structure {type:first_line;}\">\n",
    "        <Coords points=\"1300,2741 1304,2712 1337,2687 1406,2712 1487,2698 1652,2716 1677,2698 1703,2709 1751,2661 1780,2665 1831,2716 1926,2719 1981,2665 2432,2661 2443,2756 2410,2782 2373,2767 2245,2782 2128,2782 2077,2763 1882,2771 1816,2807 1740,2774 1674,2789 1633,2763 1586,2782 1545,2760 1498,2778 1425,2763 1304,2771\"/>\n",
    "        <Baseline points=\"1304,2745 1461,2752 1498,2760 2446,2760\"/>\n",
    "        <TextEquiv>\n",
    "          <Unicode>Boudier (par Abel Eugène) architecte &amp;amp; Marie Thérèse Louise</Unicode>\n",
    "        </TextEquiv>\n",
    "      </TextLine>\n",
    "```\n"
   ]
  },
  {
   "cell_type": "code",
   "execution_count": null,
   "id": "7237e5e4-37f9-487d-98ba-198a5830e159",
   "metadata": {},
   "outputs": [],
   "source": []
  },
  {
   "cell_type": "markdown",
   "id": "29547a5f-4823-4e29-b7d0-e04d7e6cea85",
   "metadata": {},
   "source": [
    "## 1\\. Installation de l'environnement"
   ]
  },
  {
   "cell_type": "markdown",
   "id": "8af5fe4f-71c5-421c-be94-3af05d392343",
   "metadata": {},
   "source": [
    "### Installation des dépendances"
   ]
  },
  {
   "cell_type": "code",
   "execution_count": 1,
   "id": "40e107f0-46da-456d-ae10-a47a4017a3ac",
   "metadata": {},
   "outputs": [],
   "source": [
    "import os\n",
    "import re\n",
    "import shutil\n",
    "import zipfile\n",
    "\n",
    "from bs4 import BeautifulSoup, NavigableString\n",
    "import itertools\n",
    "from lxml import etree\n",
    "from tqdm.notebook import trange, tqdm\n",
    "\n",
    "# if running on colab, you'll need to install the corresponding files first\n",
    "import lutils.lutils as lutils\n",
    "from constants import MONTHS_MAPS, TEIHEADER"
   ]
  },
  {
   "cell_type": "markdown",
   "id": "f99f6f6a-4233-4343-80c1-8c2965db2c51",
   "metadata": {},
   "source": [
    "### Organisation du répertoire de travail"
   ]
  },
  {
   "cell_type": "markdown",
   "id": "0988e9ed-cabf-4c3b-8fce-810fcd0ffe27",
   "metadata": {},
   "source": [
    "- `/content/source/` -> reçoit les fichiers XML PAGE\n",
    "- `/content/tei_output/` -> reçoit le résultat de la transformation XSL\n",
    "- `/content/tei4publisher/` -> reçoit les fichiers XML TEI prêts à être chargés dans TEI Publisher"
   ]
  },
  {
   "cell_type": "code",
   "execution_count": 2,
   "id": "bd35cfa0-4b6a-4da1-b86b-042aa66d7b45",
   "metadata": {},
   "outputs": [],
   "source": [
    "path_dir_content = f\".{os.sep}content\"\n",
    "path_dir_source = f\"{path_dir_content}{os.sep}source\"\n",
    "path_dir_output = f\"{path_dir_content}{os.sep}tei_output\"\n",
    "path_dir_teipub = f\"{path_dir_content}{os.sep}tei4publisher\"\n",
    "\n",
    "#if running locally\n",
    "# if you need to flush \"./content/\"\n",
    "#lutils.flush_dir(path_dir_content)\n",
    "os.makedirs(path_dir_content, mode=0o777, exist_ok=True)\n",
    "os.makedirs(path_dir_source, mode=0o777, exist_ok=True)\n",
    "os.makedirs(path_dir_output, mode=0o777, exist_ok=True)\n",
    "os.makedirs(path_dir_teipub, mode=0o777, exist_ok=True)\n",
    "\n",
    "\n",
    "# --------------------\n",
    "# if running on collab\n",
    "#!rm -r content/source/\n",
    "#!rm -r content/tei_output/\n",
    "#!rm -r content/tei4publisher/\n",
    "\n",
    "#!mkdir source\n",
    "#!mkdir tei4publisher\n",
    "#!mkdir tei_output"
   ]
  },
  {
   "cell_type": "markdown",
   "id": "61f036b0-c689-46dc-924e-65bceb985b6f",
   "metadata": {},
   "source": [
    "Récupération de la feuille XSLT pour PAGE -> TEI :"
   ]
  },
  {
   "cell_type": "code",
   "execution_count": 3,
   "id": "ff191a07-de56-4b1e-9b9c-0b7c766dbfe5",
   "metadata": {},
   "outputs": [],
   "source": [
    "url_xsl = \"https://raw.githubusercontent.com/lectaurep/page2tei/main/xmlpage_to_tei.xsl\"\n",
    "\n",
    "# if running locally\n",
    "path_to_xsl = os.path.join(os.path.abspath(\".\"),(os.path.basename(url_xsl)))\n",
    "lutils.pywget(url_xsl, path_to_xsl)\n",
    "\n",
    "# --------------------\n",
    "# if executing on colab:\n",
    "#path_to_xsl = os.path.join(\"content\", os.path.basename(url_xsl))\n",
    "#!wget -N $url_xsl"
   ]
  },
  {
   "cell_type": "markdown",
   "id": "70de2b5a-db55-448e-a4c5-536ebccfb733",
   "metadata": {},
   "source": [
    "Récupération du parser Saxon HE 9.9.1-7 pour appliquer la feuille XSL :"
   ]
  },
  {
   "cell_type": "code",
   "execution_count": 4,
   "id": "959ad263-bffd-481d-843d-70bf3d75a107",
   "metadata": {},
   "outputs": [],
   "source": [
    "# récupération du parser Saxon\n",
    "url_saxon = \"https://repo1.maven.org/maven2/net/sf/saxon/Saxon-HE/9.9.1-7/Saxon-HE-9.9.1-7.jar\"\n",
    "\n",
    "# if running locally\n",
    "path_to_saxon = os.path.join(os.path.abspath(\".\"),(os.path.basename(url_saxon)))\n",
    "lutils.pywget(url_saxon, path_to_saxon)\n",
    "\n",
    "# --------------------\n",
    "# if executing on colab:\n",
    "#path_to_saxon = os.path.join(\"/content\", os.path.basename(url_saxon))\n",
    "#!wget -N $url_saxon"
   ]
  },
  {
   "cell_type": "markdown",
   "id": "7b4dc0bd-db38-4f09-a237-bb253ed53b22",
   "metadata": {},
   "source": [
    "Récupération du schéma RNG"
   ]
  },
  {
   "cell_type": "markdown",
   "id": "e425a148-6676-4875-baf4-5b5ea0caa48a",
   "metadata": {},
   "source": [
    "## 2\\. Définitions des fonctions et classes"
   ]
  },
  {
   "cell_type": "markdown",
   "id": "1818b903-467d-4dc4-a606-775aad7fd882",
   "metadata": {
    "jp-MarkdownHeadingCollapsed": true,
    "tags": []
   },
   "source": [
    "### 2.1 Input/output utils"
   ]
  },
  {
   "cell_type": "code",
   "execution_count": 5,
   "id": "ee33be78-033a-462b-87f3-efdb6b84095e",
   "metadata": {},
   "outputs": [],
   "source": [
    "def control_schema_validity(xml_tree):\n",
    "    \"\"\"Control the existence of an accepted root element in XML tree\"\"\"\n",
    "    ACCEPTED_SCHEMAS = [\"PcGts\", \"TEI\"]\n",
    "    for schema in ACCEPTED_SCHEMAS:\n",
    "        if len(xml_tree.find_all(schema)) == 1:\n",
    "            return True\n",
    "    print(\"Aucun schéma valide trouvé dans le fichier XML !\")\n",
    "    \n",
    "\n",
    "def open_and_parse_file(path):\n",
    "    \"\"\"Open a file, parse with BS and return result\"\"\"\n",
    "    with open(path, 'r', encoding='utf8') as fh:\n",
    "        content = fh.read()\n",
    "    parsed = BeautifulSoup(content, 'xml')\n",
    "    if not control_schema_validity(parsed):\n",
    "        parsed = None\n",
    "    return parsed\n",
    "\n",
    "\n",
    "def save_file(path, content):\n",
    "    \"\"\"Create or open a file and modify content\"\"\"\n",
    "    try:\n",
    "        with open(path, 'w', encoding=\"utf8\") as fh:\n",
    "            fh.write(content)\n",
    "    except Error as e:\n",
    "        e \n",
    "\n",
    "\n",
    "def correct_xsl(path_to_xsl):\n",
    "    with open(path_to_xsl, \"r\", encoding='utf-8') as fh:\n",
    "        xsl = fh.read()\n",
    "    xsl = xsl.replace(\"\"\"<?xml version=\"1.0\" encoding=\"UTF-8\"?>\"\"\", \"\"\"<?xml version=\"1.0\" encoding=\"UTF-8\" standalone=\"yes\"?>\"\"\")\n",
    "    # we don't like how the output file is named:\n",
    "    xsl = xsl.replace('<xsl:result-document href=\"teifromxmlpage.xml\"', f'<xsl:result-document href=\"{tei_file}\"')\n",
    "    with open(path_to_xsl, \"w\", encoding=\"utf-8\") as fh:\n",
    "        fh.write(xsl)"
   ]
  },
  {
   "cell_type": "markdown",
   "id": "4cd66a4e-e3a6-4c66-b5ba-2a3c65ebf606",
   "metadata": {
    "jp-MarkdownHeadingCollapsed": true,
    "tags": []
   },
   "source": [
    "### 2.2 Analyse XML PAGE"
   ]
  },
  {
   "cell_type": "markdown",
   "id": "98e18896-40b3-449e-8def-3c9cba5b6780",
   "metadata": {},
   "source": [
    "On cherche les lignes annotées comme \"first_line\" et à partir de leur coordonnées, on génère un découpage vertical (*vertical slicing*) du fichier permettant d'identifier les différentes entrées de la page du répertoire. \n",
    "\n",
    "***Attention :** pour le moment, on perd les informations situées avant la première entrée. Par exemple, si un paragraphe débuté à la page précédente se termiine sur la page suivante, on \"perd\" ces quelques lignes."
   ]
  },
  {
   "cell_type": "code",
   "execution_count": 6,
   "id": "18923bdd-bbb7-4f09-ade7-9feedfff0873",
   "metadata": {},
   "outputs": [],
   "source": [
    "def vertical_slicing(xml_tree):\n",
    "    \"\"\"Compose the vertical slices in an image depending on the coordinates of the  \n",
    "    //TextLine/@custom=\"structure {type:col_5;}\" nodes.\"\"\"\n",
    "    # Targetting the central column (col_5)\n",
    "    main_cols = xml_tree.find_all(\"TextRegion\", custom=\"structure {type:col_5;}\")\n",
    "    head_lines = []\n",
    "    for main_col in main_cols:\n",
    "        first_lines = main_col.find_all(\"TextLine\", custom=\"structure {type:first_line;}\")\n",
    "    for fline in first_lines:\n",
    "        coords = fline.find_all(\"Coords\")\n",
    "        points = coords[0].attrs.get(\"points\", f\"le noeud {fline.attrs['id']} a des coords incomplètes (pas de @points)\")\n",
    "        y_coords = [int(xy.split(\",\")[-1]) for xy in points.split(\" \")]\n",
    "        min_y = sorted(y_coords)[0]\n",
    "        head_lines.append({\"head_line\": fline.attrs[\"id\"], \"top_max\": min_y})\n",
    "\n",
    "    for line in head_lines:\n",
    "        if head_lines.index(line) + 1 < len(head_lines):\n",
    "            max_y = head_lines[head_lines.index(line) + 1][\"top_max\"] \n",
    "        else:\n",
    "            max_y = None\n",
    "        line[\"bottom_max\"] = max_y\n",
    "    return head_lines"
   ]
  },
  {
   "cell_type": "markdown",
   "id": "94867f42-1c34-4e54-9635-ddcb88c6e2cb",
   "metadata": {
    "jp-MarkdownHeadingCollapsed": true,
    "tags": []
   },
   "source": [
    "### 2.3 Génération des entrées de tableaux"
   ]
  },
  {
   "cell_type": "markdown",
   "id": "aec7f7a4-f969-427e-a5f9-a75c00fb63e2",
   "metadata": {
    "tags": []
   },
   "source": [
    "Un objet Row permet de modéliser rapidement les entrées de la page de répertoire à partir du découpage vertical réalisé à la page précédente. Les différentes propriétés de l'objet enregistrent les liens entre chaque segment grâce à leur identifiants. \n",
    "\n",
    "`Row.show_row()` permet d'afficher le texte ainsi rassemblé."
   ]
  },
  {
   "cell_type": "code",
   "execution_count": 7,
   "id": "23a4aacd-c7c4-4625-9df5-4fb556a189a5",
   "metadata": {},
   "outputs": [],
   "source": [
    "class Row:\n",
    "    def show_row(self):\n",
    "        shown = self.__dict__\n",
    "        del shown[\"_xml_tree\"]\n",
    "        pp = pprint.PrettyPrinter(indent=2)\n",
    "        pp.pprint(shown)\n",
    "        return shown\n",
    "\n",
    "    def _find_text(self, node_id):\n",
    "        return self._xml_tree.find(True, id=node_id).text.strip()\n",
    "\n",
    "    def show_text_in_row(self):\n",
    "        main_paragraph = \"\\n+ \".join([self._find_text(n_id) for n_id in self.main_paragraph])\n",
    "        print(\"\\n\".join([f\"{self.top_limit} < {self.bottom_limit}\",\n",
    "                         f\"num de répertoire : {[self._find_text(n_id) for n_id in self.entry_id]}\",\n",
    "                         f\"date de l'acte : {[self._find_text(n_id) for n_id in self.date_of_act]}\",\n",
    "                         f\"types de l'acte (brevet) : {[self._find_text(n_id) for n_id in self.type_of_act['brevet']]}\",\n",
    "                         f\"types de l'acte (minute) : {[self._find_text(n_id) for n_id in self.type_of_act['minute']]}\",\n",
    "                         f\"paragraphe central : {main_paragraph}\",\n",
    "                         f\"date d'enregistrement : {[self._find_text(n_id) for n_id in self.registration_relation['date']]}\",\n",
    "                         f\"droits d'enregistrement : {[self._find_text(n_id) for n_id in self.registration_relation['droits']]}\",\n",
    "                         f\"misc : {[self._find_text(n_id) for n_id in self.misc]}\",\n",
    "                         \"___fin___\"]))\n",
    "\n",
    "    def _elems_in_range(self):\n",
    "        \"\"\"Collect all segments fitting within the range defined by the vertical slice\"\"\"\n",
    "        selected_elems = []\n",
    "        for textline in self._xml_tree.find_all(\"TextLine\"):\n",
    "            baseline = textline.find(\"Baseline\")\n",
    "            points = baseline.attrs.get(\"points\", f\"le noeud {textline.attrs['id']} a des coords incomplètes (pas de @points)\")\n",
    "            y_coords = [int(xy.split(\",\")[-1]) for xy in points.split(\" \")]\n",
    "            highest_point = sorted(y_coords)[0]\n",
    "            if not self.bottom_limit:\n",
    "                if self.top_limit < highest_point:\n",
    "                    selected_elems.append(textline)\n",
    "            else:\n",
    "                if self.top_limit < highest_point <= self.bottom_limit:\n",
    "                    selected_elems.append(textline)\n",
    "        return selected_elems\n",
    "\n",
    "    def _distribute_lines(self, lines):\n",
    "        for line in lines:\n",
    "            # custom=\"structure {type:col_3;}\" -> \"col_3\"\n",
    "            if \"custom\" in line.parent.attrs.keys():\n",
    "                region_type = line.parent.attrs[\"custom\"].replace(\"structure {type:\", \"\").replace(\";}\", \"\")\n",
    "                if region_type == \"col_1\":\n",
    "                    self.entry_id.append(line.attrs[\"id\"])\n",
    "                elif region_type == \"col_2\":\n",
    "                    self.date_of_act.append(line.attrs[\"id\"])\n",
    "                elif region_type == \"col_3\":\n",
    "                    self.type_of_act[\"brevet\"].append(line.attrs[\"id\"])\n",
    "                elif region_type == \"col_4\":\n",
    "                    self.type_of_act[\"minute\"].append(line.attrs[\"id\"])\n",
    "                elif region_type == \"col_5\":\n",
    "                    # TODO: et si l'id de la line n'est pas head_line...\n",
    "                    self.main_paragraph.append(line.attrs[\"id\"])\n",
    "                elif region_type == \"col_6\":\n",
    "                    self.registration_relation[\"date\"].append(line.attrs[\"id\"])\n",
    "                elif region_type == \"col_7\":\n",
    "                    self.registration_relation[\"droits\"].append(line.attrs[\"id\"])\n",
    "                else:\n",
    "                    self.misc.append(line.attrs[\"id\"])\n",
    "            else:\n",
    "                self.misc.append(line.attrs[\"id\"])\n",
    "\n",
    "    def __init__(self, xml_tree, part):\n",
    "        self._xml_tree = xml_tree\n",
    "        self.top_limit = part[\"top_max\"]\n",
    "        self.bottom_limit = part[\"bottom_max\"]\n",
    "        self.head_line = part[\"head_line\"]\n",
    "        self.main_paragraph = []\n",
    "        self.entry_id = []\n",
    "        self.date_of_act = []\n",
    "        self.type_of_act = {\"minute\" : [], \"brevet\": []} # warrant?\n",
    "        self.registration_relation = {\"date\" : [] , \"droits\" : []}\n",
    "        self.misc = []\n",
    "\n",
    "        associated_lines = self._elems_in_range()\n",
    "        self._distribute_lines(associated_lines)"
   ]
  },
  {
   "cell_type": "markdown",
   "id": "aea748f6-5aa8-47f4-8fd4-cab79e181cc1",
   "metadata": {},
   "source": [
    "### 2.4 Modification des fichiers TEI\n",
    "\n",
    "1. mettre à jour les métadonnées dans le teiHeader\n",
    "2. ajouter une section \"//text\"\" contenant un tableau (//table) où chaque ligne (//row) correspond à une objet Row"
   ]
  },
  {
   "cell_type": "markdown",
   "id": "9d3a0c38-003d-42bf-87a3-8ddc377f67b8",
   "metadata": {
    "jp-MarkdownHeadingCollapsed": true,
    "tags": []
   },
   "source": [
    "#### 2.4.1 Contrôler les dates"
   ]
  },
  {
   "cell_type": "code",
   "execution_count": 8,
   "id": "22ad893b-563f-439e-91e3-c45f7153a3d7",
   "metadata": {},
   "outputs": [],
   "source": [
    "# dates control\n",
    "def make_combinations(years, months):\n",
    "    \"\"\"Create every possible combination of months and years\"\"\"\n",
    "    return [f\"{yyyy}-{mm}\" for yyyy, mm in itertools.product(years, months)]\n",
    "\n",
    "\n",
    "def get_months_and_years(tree):\n",
    "    \"\"\"Get month(s) and year(s) a page refers to\"\"\"\n",
    "    main_date = [elem for elem in tree.find_all(True, custom=True) if elem.attrs[\"custom\"] == 'structure {type:main_date;}']\n",
    "    years, months = build_list_of_years_and_months(main_date)\n",
    "    return make_combinations(years, months)\n",
    "\n",
    "\n",
    "def compose_iso_date(date_node, yyyy_mm):\n",
    "    if date_node.attrs[\"when-iso\"]:\n",
    "        if len(date_node.attrs[\"when-iso\"].split(\"-\")) == 1:\n",
    "            iso_date = f'{yyyy_mm}-{date_node.attrs[\"when-iso\"]}'\n",
    "    return iso_date\n",
    "\n",
    "\n",
    "def build_list_of_years_and_months(main_dates_nodes):\n",
    "    years = []\n",
    "    months = []\n",
    "    for textline in main_dates_nodes:\n",
    "        line = str(textline.TextEquiv.Unicode.string)\n",
    "        # get year(s)\n",
    "        myear = re.search(r\"\\d+\", line) #r\"\\d{4}\" ?\n",
    "        if myear:\n",
    "            years.append(myear.group(0))\n",
    "        else:\n",
    "            year = None\n",
    "        # get month(s)\n",
    "        for month in MONTHS_MAPS.keys():\n",
    "            if month in line.lower():\n",
    "                months.append(MONTHS_MAPS[month])\n",
    "    years = list(set(years))\n",
    "    months = list(set(months))\n",
    "    return years, months"
   ]
  },
  {
   "cell_type": "code",
   "execution_count": 9,
   "id": "88640901-db1b-4318-9e36-63c39751ef4a",
   "metadata": {},
   "outputs": [],
   "source": [
    "# TEI Tree date modification\n",
    "def is_date(value):\n",
    "    \"\"\"Evaluate how likely a string is to refer to a date\"\"\"\n",
    "    value = str(value)\n",
    "    if '(' in value or ')' in value or '&amp;' in value:\n",
    "        value = value.replace(\"(\", \"\").replace(\")\", \"\").replace(\"&amp;\", \" \").strip()\n",
    "    if value and value.isdigit():\n",
    "        if 1 <= int(value) <= 31:\n",
    "            return \"high\"\n",
    "    if value.strip() in ['\"', \"d°\", \"-\", \"- -\"]:\n",
    "        return \"unknown\"\n",
    "    for month in MONTHS_MAPS.keys():\n",
    "        if month in value.lower():\n",
    "            return \"medium\"\n",
    "    return \"low\"\n",
    "\n",
    "\n",
    "def control_dates(tree):\n",
    "    \"\"\"Parse date elements in TEI tree and add a cert attribute or delete when-iso\"\"\"\n",
    "    #slices = slice_dates(tree)\n",
    "    for date in tree.body.find_all(\"date\"):\n",
    "        date.attrs[\"cert\"] = is_date(date.string)\n",
    "        if not date.attrs[\"when-iso\"].isdigit():\n",
    "            del date.attrs[\"when-iso\"]\n",
    "\n",
    "\n",
    "def complete_wheniso_attrs(tei_tree, yyyy_mms):\n",
    "    \"\"\"Change values in wheniso attrs\"\"\"\n",
    "    for date in tei_tree.find_all(\"date\"):\n",
    "        if \"when-iso\" in date.attrs.keys():\n",
    "            new_values = [f\"{yyyy_mm}-{date.attrs['when-iso']}\" for yyyy_mm in yyyy_mms]\n",
    "            if len(new_values) == 1:\n",
    "                date.attrs[\"when-iso\"] == new_values[0]\n",
    "            elif len(new_values) > 1:\n",
    "                date.attrs[\"when-iso\"] = f\"{', '.join(new_values)}\"\n",
    "    return tei_tree"
   ]
  },
  {
   "cell_type": "markdown",
   "id": "607d1786-9971-41e8-9c62-a3ccf0ebb3f0",
   "metadata": {
    "jp-MarkdownHeadingCollapsed": true,
    "tags": []
   },
   "source": [
    "#### 2.4.2 Modifier le teiHeader"
   ]
  },
  {
   "cell_type": "code",
   "execution_count": 10,
   "id": "356c0208-8894-4e68-b158-a44f3ffd1f4d",
   "metadata": {},
   "outputs": [],
   "source": [
    "# TEI header\n",
    "def update_tei_header(tei_tree):\n",
    "    # 1. modification des balises \"title\" et \"author\"\n",
    "    tei_tree.fileDesc.replace_with(BeautifulSoup(TEIHEADER[\"fileDesc\"], \"xml\").fileDesc.extract())\n",
    "    tei_tree.titleStmt.title.string = tei_file.split(\"/\")[-1].replace(\".xml\", \"\")\n",
    "    tei_tree.titleStmt.author.string = \"Lectaurep\"\n",
    "    if len(tei_tree.find_all(\"encodingDesc\")) == 1:\n",
    "        tei_tree.encodingDesc.replace_with(BeautifulSoup(TEIHEADER[\"encodingDesc\"], \"xml\").encodingDesc.extract())\n",
    "    else:\n",
    "        tei_tree.fileDesc.insert_after(BeautifulSoup(TEIHEADER[\"encodingDesc\"], \"xml\").encodingDesc.extract())\n",
    "    return tei_tree"
   ]
  },
  {
   "cell_type": "markdown",
   "id": "f6b3fa39-aea4-4187-9f89-27c8c4a4dd7f",
   "metadata": {
    "tags": []
   },
   "source": [
    "#### 2.4.3 Intégrer les rows"
   ]
  },
  {
   "cell_type": "code",
   "execution_count": 11,
   "id": "d40ac73a-8d82-478c-9758-20eb7ce8f968",
   "metadata": {},
   "outputs": [],
   "source": [
    "# table & rows\n",
    "def build_new_row(xml_tree, row):\n",
    "    new_row = xml_tree.new_tag(\"row\")\n",
    "    # 1. numero de répertoire\n",
    "    cell = xml_tree.new_tag(\"cell\", n=1, role=\"col1\")\n",
    "    for num_rep in row.entry_id:\n",
    "        matching_tag = xml_tree.find(True, attrs={\"xml:id\": num_rep})\n",
    "        cell.append(xml_tree.new_tag(\"lb\", facs=f\"#{num_rep}\"))\n",
    "        cell.append(NavigableString(matching_tag.line.text))\n",
    "    new_row.append(cell)\n",
    "    # 2. date de l'acte\n",
    "    cell = xml_tree.new_tag(\"cell\", n=2, role=\"col2\")\n",
    "    for date_act in row.date_of_act:\n",
    "        matching_tag = xml_tree.find(True, attrs={\"xml:id\": date_act})\n",
    "        cell.append(xml_tree.new_tag(\"lb\", facs=f\"#{date_act}\"))\n",
    "        cell_content = matching_tag.line.text.strip()\n",
    "        if cell_content.isdigit:\n",
    "            cell_date = xml_tree.new_tag(\"date\", attrs={\"when-iso\":cell_content}) #TODO: mieux construire @when\n",
    "            cell_date.append(NavigableString(cell_content))\n",
    "            cell.append(cell_date)\n",
    "        else:\n",
    "            cell.append(NavigableString(cell_content))\n",
    "    new_row.append(cell)\n",
    "    # 3. type d'acte brevet\n",
    "    cell = xml_tree.new_tag(\"cell\", n=3, role=\"col3\")\n",
    "    for type_brevet in row.type_of_act[\"brevet\"]:\n",
    "        matching_tag = xml_tree.find(True, attrs={\"xml:id\": type_brevet})\n",
    "        cell.append(xml_tree.new_tag(\"lb\", facs=f\"#{type_brevet}\"))\n",
    "        cell.append(NavigableString(matching_tag.line.text))\n",
    "    new_row.append(cell)\n",
    "    # 4. type d'acte minute\n",
    "    cell = xml_tree.new_tag(\"cell\", n=4, role=\"col4\")\n",
    "    for type_minute in row.type_of_act[\"minute\"]:\n",
    "        matching_tag = xml_tree.find(True, attrs={\"xml:id\": type_minute})\n",
    "        cell.append(xml_tree.new_tag(\"lb\", facs=f\"#{type_minute}\"))\n",
    "        cell.append(NavigableString(matching_tag.line.text))\n",
    "    new_row.append(cell)\n",
    "    # 5. paragraphe central\n",
    "    cell = xml_tree.new_tag(\"cell\", n=5, role=\"col5\")\n",
    "    for mainp in row.main_paragraph:\n",
    "        n = row.main_paragraph.index(mainp) + 1\n",
    "        matching_tag = xml_tree.find(True, attrs={\"xml:id\": mainp})\n",
    "        cell.append(xml_tree.new_tag(\"lb\", n=n, facs=f\"#{mainp}\"))\n",
    "        cell.append(NavigableString(matching_tag.line.text))\n",
    "    new_row.append(cell)\n",
    "    # 6. date enregistrement\n",
    "    cell = xml_tree.new_tag(\"cell\", n=6, role=\"col6\")\n",
    "    for date_reg in row.registration_relation[\"date\"]:\n",
    "        matching_tag = xml_tree.find(True, attrs={\"xml:id\": date_reg})\n",
    "        cell.append(xml_tree.new_tag(\"lb\", facs=f\"#{date_reg}\"))\n",
    "        cell_content = matching_tag.line.text.strip()\n",
    "        if cell_content.isdigit:\n",
    "            cell_date = xml_tree.new_tag(\"date\", attrs={\"when-iso\":cell_content}) #TODO: mieux construire @when\n",
    "            cell_date.append(NavigableString(cell_content))\n",
    "            cell.append(cell_date)\n",
    "        else:\n",
    "            cell.append(NavigableString(cell_content))\n",
    "    new_row.append(cell)\n",
    "    # 7. droit enregistrement\n",
    "    cell = xml_tree.new_tag(\"cell\", n=7, role=\"col7\")\n",
    "    for droits_reg in row.registration_relation[\"droits\"]:\n",
    "        matching_tag = xml_tree.find(True, attrs={\"xml:id\": droits_reg})\n",
    "        cell.append(xml_tree.new_tag(\"lb\", facs=f\"#{droits_reg}\"))\n",
    "        cell.append(NavigableString(matching_tag.line.text))\n",
    "    new_row.append(cell)\n",
    "    # 8. misc\n",
    "    cell = xml_tree.new_tag(\"cell\", n=8, role=\"misc\")\n",
    "    for misc in row.misc:\n",
    "        n = row.misc.index(misc) + 1\n",
    "        matching_tag = xml_tree.find(True, attrs={\"xml:id\": misc})\n",
    "        cell.append(xml_tree.new_tag(\"lb\", n=n, facs=f\"#{misc}\"))\n",
    "        cell.append(NavigableString(matching_tag.line.text))\n",
    "    new_row.append(cell)\n",
    "    return new_row\n",
    "\n",
    "\n",
    "def add_table_structure(tei_tree):\n",
    "    # 1. construction des noeuds tempo_text (à renommer text) et body\n",
    "    tei_tree.sourceDoc.insert_after(tei_tree.new_tag(\"tempo_text\"))\n",
    "    tei_tree.tempo_text.append(tei_tree.new_tag(\"body\"))\n",
    "    # 2. creation du tableau\n",
    "    tei_tree.body.append(tei_tree.new_tag(\"div\", type=\"main\"))\n",
    "    tei_tree.body.div.append(tei_tree.new_tag(\"table\", rows=len(rows), cols=8))\n",
    "    table_labels = tei_tree.new_tag(\"row\", role=\"label\", n=0)\n",
    "    labels = [\"Numéros du répertoire\", \"Dates des actes\", \"Actes en brevets\", \n",
    "                        \"Actes en minutes\", \"Noms, prénms et domiciles des parties ; indication, situations et prix des biens\", \n",
    "                        \"Date de l'enregistrement\", \"Droits de l'enregistrement\", \"Autres\"]\n",
    "    for label in labels:\n",
    "        cell = tei_tree.new_tag(\"cell\", role=f\"label{labels.index(label) + 1}\", n=labels.index(label) + 1)\n",
    "        cell.append(NavigableString(label))\n",
    "        table_labels.append(cell)\n",
    "    tei_tree.body.div.table.append(table_labels)\n",
    "    return tei_tree"
   ]
  },
  {
   "cell_type": "markdown",
   "id": "5637c824-a51b-4ef0-9741-8602b5f657f9",
   "metadata": {
    "tags": []
   },
   "source": [
    "#### 2.4.4 Fonction principale pour la modification des XML TEI"
   ]
  },
  {
   "cell_type": "code",
   "execution_count": 12,
   "id": "030a708b-ffbe-47ce-b16d-38c1c1f89bb5",
   "metadata": {},
   "outputs": [],
   "source": [
    "def modify_tei_file(tei_file, rows, yyyy_mms):\n",
    "    # 1. ouverture du fichier TEI\n",
    "    xml_tree = open_and_parse_file(tei_file)\n",
    "    print(\"Done parsing file\")\n",
    "    \n",
    "    # 2. modification du teiHeader\n",
    "    xml_tree = update_tei_header(xml_tree)\n",
    "    print(\"Done updating teiHeader\")\n",
    "    \n",
    "    # 3. ajout de la structure table\n",
    "    xml_tree = add_table_structure(xml_tree)\n",
    "    print(\"Done building table structure\")\n",
    "    \n",
    "    # 4. ajout du contenu de table\n",
    "    for row in tqdm(rows):\n",
    "        new_row = build_new_row(xml_tree, row)\n",
    "        xml_tree.body.div.table.append(new_row)\n",
    "    print(\"Done building rows\")\n",
    "    \n",
    "    # 5. nettoyage des éléments temporaires\n",
    "    text_node = xml_tree.find_all('tempo_text')\n",
    "    if len(text_node) >= 1:\n",
    "        text_node[0].name = \"text\"\n",
    "    print(\"Done cleaning\")\n",
    "    \n",
    "    # 6. standardisation des dates dans les attributs when-iso\n",
    "    control_dates(xml_tree)\n",
    "    complete_wheniso_attrs(xml_tree, yyyy_mms)\n",
    "    print(\"Done handling dates\")\n",
    "    \n",
    "    tei4publisher_file = tei_file.replace(\"tei_output/\", \"tei4publisher/\")\n",
    "    file_content = xml_tree.prettify().replace(\"&amp;amp;\", \"&amp;\")\n",
    "    return tei4publisher_file, file_content"
   ]
  },
  {
   "cell_type": "markdown",
   "id": "d74cd8c3-2ad5-45e6-9914-cde591868156",
   "metadata": {},
   "source": [
    "## 3\\. Application de la pipeline"
   ]
  },
  {
   "cell_type": "markdown",
   "id": "abd358bc-6f97-418e-bd86-227c28fd9fa7",
   "metadata": {},
   "source": [
    "## 3.1 Téléchargement des fichiers source"
   ]
  },
  {
   "cell_type": "markdown",
   "id": "e15a9ca9-11d2-4c2e-baea-3a0c7abe4bbf",
   "metadata": {},
   "source": [
    "La valeur de \"url\" correspond au permalien généré par eScriptorium pour le téléchargement d'une archive. La création de cette archive se fait directement dans la GUI d'eScriptorium avec la fonction \"Export\". L'export des fichiers XML PAGE suffit."
   ]
  },
  {
   "cell_type": "code",
   "execution_count": 13,
   "id": "56de95ec-4874-4429-9749-d87bb6e9fab9",
   "metadata": {},
   "outputs": [
    {
     "name": "stderr",
     "output_type": "stream",
     "text": [
      "/home/achague-vm/Documents/lepidemo/env/lib/python3.7/site-packages/urllib3/connectionpool.py:1020: InsecureRequestWarning: Unverified HTTPS request is being made to host 'escriptorium.inria.fr'. Adding certificate verification is strongly advised. See: https://urllib3.readthedocs.io/en/1.26.x/advanced-usage.html#ssl-warnings\n",
      "  InsecureRequestWarning,\n"
     ]
    }
   ],
   "source": [
    "url = \"https://escriptorium.inria.fr/media/users/4/export_test_vers_tei_publisher_pagexml_202106181347.zip\"\n",
    "path_to_zip = os.path.join(path_dir_source, os.path.basename(url))\n",
    "abszipname = os.path.abspath(path_to_zip)\n",
    "\n",
    "lutils.pywget(url, path_to_zip, verify=False)\n",
    "with zipfile.ZipFile(path_to_zip, 'r') as ziph:\n",
    "    ziph.extractall(path_dir_source)\n",
    "os.remove(path_to_zip)\n",
    "\n",
    "# ------------------\n",
    "#if running on colab\n",
    "#!cd content/source && wget -N $url --no-check-certificate && unzip -u $absfilename && rm $filename\n",
    "# Ajout du paramètre --no-check-certificate pour télécharger l'export eScriptorium depuis son API sans être authentifié\n",
    "\n",
    "sources = [f for f in os.listdir(path_dir_source) if f.endswith(\".xml\")]"
   ]
  },
  {
   "cell_type": "markdown",
   "id": "08ea0440-cc06-42de-ba18-5e2599f83e67",
   "metadata": {},
   "source": [
    "### 3.2 Application de la pipeline complète"
   ]
  },
  {
   "cell_type": "code",
   "execution_count": 14,
   "id": "f3b1132d-60b0-4107-a557-d5ca271d0594",
   "metadata": {},
   "outputs": [
    {
     "name": "stdout",
     "output_type": "stream",
     "text": [
      "-------: FRAN_0025_3657_L-1.xml :-------\n",
      "starting conversion\n",
      "conversion finished\n",
      "Done parsing file\n",
      "Done updating teiHeader\n",
      "Done building table structure\n"
     ]
    },
    {
     "data": {
      "application/vnd.jupyter.widget-view+json": {
       "model_id": "0a45b3bfb1044fb6a311e19faa843807",
       "version_major": 2,
       "version_minor": 0
      },
      "text/plain": [
       "  0%|          | 0/20 [00:00<?, ?it/s]"
      ]
     },
     "metadata": {},
     "output_type": "display_data"
    },
    {
     "name": "stdout",
     "output_type": "stream",
     "text": [
      "Done building rows\n",
      "Done cleaning\n",
      "Done handling dates\n",
      "saving to content/tei4publisher/FRAN_0025_3657_L-1-tei.xml\n",
      "-------: DAFANCH96_023MIC07633_L-0.xml :-------\n",
      "starting conversion\n",
      "conversion finished\n",
      "Done parsing file\n",
      "Done updating teiHeader\n",
      "Done building table structure\n"
     ]
    },
    {
     "data": {
      "application/vnd.jupyter.widget-view+json": {
       "model_id": "4cc15208ead4462c9da869a61d1369ed",
       "version_major": 2,
       "version_minor": 0
      },
      "text/plain": [
       "  0%|          | 0/13 [00:00<?, ?it/s]"
      ]
     },
     "metadata": {},
     "output_type": "display_data"
    },
    {
     "name": "stdout",
     "output_type": "stream",
     "text": [
      "Done building rows\n",
      "Done cleaning\n",
      "Done handling dates\n",
      "saving to content/tei4publisher/DAFANCH96_023MIC07633_L-0-tei.xml\n",
      "-------: DAFANCH96_023MIC07645_L-0.xml :-------\n",
      "starting conversion\n",
      "conversion finished\n",
      "Done parsing file\n",
      "Done updating teiHeader\n",
      "Done building table structure\n"
     ]
    },
    {
     "data": {
      "application/vnd.jupyter.widget-view+json": {
       "model_id": "34e70c9c676449c4b368fb2cdef709b1",
       "version_major": 2,
       "version_minor": 0
      },
      "text/plain": [
       "  0%|          | 0/18 [00:00<?, ?it/s]"
      ]
     },
     "metadata": {},
     "output_type": "display_data"
    },
    {
     "name": "stdout",
     "output_type": "stream",
     "text": [
      "Done building rows\n",
      "Done cleaning\n",
      "Done handling dates\n",
      "saving to content/tei4publisher/DAFANCH96_023MIC07645_L-0-tei.xml\n",
      "-------: FRAN_0025_3056_L-0.xml :-------\n",
      "starting conversion\n",
      "conversion finished\n",
      "Done parsing file\n",
      "Done updating teiHeader\n",
      "Done building table structure\n"
     ]
    },
    {
     "data": {
      "application/vnd.jupyter.widget-view+json": {
       "model_id": "7c0b5a3d194c4914a54b7c9bc22f6d98",
       "version_major": 2,
       "version_minor": 0
      },
      "text/plain": [
       "  0%|          | 0/19 [00:00<?, ?it/s]"
      ]
     },
     "metadata": {},
     "output_type": "display_data"
    },
    {
     "name": "stdout",
     "output_type": "stream",
     "text": [
      "Done building rows\n",
      "Done cleaning\n",
      "Done handling dates\n",
      "saving to content/tei4publisher/FRAN_0025_3056_L-0-tei.xml\n",
      "-------: FRAN_0025_1290_L-1.xml :-------\n",
      "starting conversion\n",
      "conversion finished\n",
      "Done parsing file\n",
      "Done updating teiHeader\n",
      "Done building table structure\n"
     ]
    },
    {
     "data": {
      "application/vnd.jupyter.widget-view+json": {
       "model_id": "6b96c7756451484bbc666ffcb043be35",
       "version_major": 2,
       "version_minor": 0
      },
      "text/plain": [
       "  0%|          | 0/21 [00:00<?, ?it/s]"
      ]
     },
     "metadata": {},
     "output_type": "display_data"
    },
    {
     "name": "stdout",
     "output_type": "stream",
     "text": [
      "Done building rows\n",
      "Done cleaning\n",
      "Done handling dates\n",
      "saving to content/tei4publisher/FRAN_0025_1290_L-1-tei.xml\n",
      "-------: FRAN_0025_5094_L-1.xml :-------\n",
      "starting conversion\n",
      "conversion finished\n",
      "Done parsing file\n",
      "Done updating teiHeader\n",
      "Done building table structure\n"
     ]
    },
    {
     "data": {
      "application/vnd.jupyter.widget-view+json": {
       "model_id": "735001c7a3f549e4ad370b7ea76b1a8c",
       "version_major": 2,
       "version_minor": 0
      },
      "text/plain": [
       "  0%|          | 0/21 [00:00<?, ?it/s]"
      ]
     },
     "metadata": {},
     "output_type": "display_data"
    },
    {
     "name": "stdout",
     "output_type": "stream",
     "text": [
      "Done building rows\n",
      "Done cleaning\n",
      "Done handling dates\n",
      "saving to content/tei4publisher/FRAN_0025_5094_L-1-tei.xml\n",
      "-------: FRAN_0025_4648_L-1.xml :-------\n",
      "starting conversion\n",
      "conversion finished\n",
      "Done parsing file\n",
      "Done updating teiHeader\n",
      "Done building table structure\n"
     ]
    },
    {
     "data": {
      "application/vnd.jupyter.widget-view+json": {
       "model_id": "ec69685366504c9a9543c496b4228a42",
       "version_major": 2,
       "version_minor": 0
      },
      "text/plain": [
       "  0%|          | 0/33 [00:00<?, ?it/s]"
      ]
     },
     "metadata": {},
     "output_type": "display_data"
    },
    {
     "name": "stdout",
     "output_type": "stream",
     "text": [
      "Done building rows\n",
      "Done cleaning\n",
      "Done handling dates\n",
      "saving to content/tei4publisher/FRAN_0025_4648_L-1-tei.xml\n",
      "-------: FRAN_0025_5795_L-1.xml :-------\n",
      "starting conversion\n",
      "conversion finished\n",
      "Done parsing file\n",
      "Done updating teiHeader\n",
      "Done building table structure\n"
     ]
    },
    {
     "data": {
      "application/vnd.jupyter.widget-view+json": {
       "model_id": "f68a9b45406948c493fd072e34495052",
       "version_major": 2,
       "version_minor": 0
      },
      "text/plain": [
       "  0%|          | 0/14 [00:00<?, ?it/s]"
      ]
     },
     "metadata": {},
     "output_type": "display_data"
    },
    {
     "name": "stdout",
     "output_type": "stream",
     "text": [
      "Done building rows\n",
      "Done cleaning\n",
      "Done handling dates\n",
      "saving to content/tei4publisher/FRAN_0025_5795_L-1-tei.xml\n",
      "-------: FRAN_0025_0227_L-0.xml :-------\n",
      "starting conversion\n",
      "conversion finished\n",
      "Done parsing file\n",
      "Done updating teiHeader\n",
      "Done building table structure\n"
     ]
    },
    {
     "data": {
      "application/vnd.jupyter.widget-view+json": {
       "model_id": "64e77e1799cc455da9389c25d57af11a",
       "version_major": 2,
       "version_minor": 0
      },
      "text/plain": [
       "  0%|          | 0/37 [00:00<?, ?it/s]"
      ]
     },
     "metadata": {},
     "output_type": "display_data"
    },
    {
     "name": "stdout",
     "output_type": "stream",
     "text": [
      "Done building rows\n",
      "Done cleaning\n",
      "Done handling dates\n",
      "saving to content/tei4publisher/FRAN_0025_0227_L-0-tei.xml\n",
      "-------: FRAN_0025_6067_L-1.xml :-------\n",
      "starting conversion\n",
      "conversion finished\n",
      "Done parsing file\n",
      "Done updating teiHeader\n",
      "Done building table structure\n"
     ]
    },
    {
     "data": {
      "application/vnd.jupyter.widget-view+json": {
       "model_id": "a54b0443bb4f4bbb8861f5160791da2b",
       "version_major": 2,
       "version_minor": 0
      },
      "text/plain": [
       "  0%|          | 0/26 [00:00<?, ?it/s]"
      ]
     },
     "metadata": {},
     "output_type": "display_data"
    },
    {
     "name": "stdout",
     "output_type": "stream",
     "text": [
      "Done building rows\n",
      "Done cleaning\n",
      "Done handling dates\n",
      "saving to content/tei4publisher/FRAN_0025_6067_L-1-tei.xml\n"
     ]
    }
   ],
   "source": [
    "out_files = []\n",
    "for source in sources:\n",
    "    print(f\"-------: {source} :-------\")\n",
    "    # open xml page file\n",
    "    source = os.path.join(\"content/source/\", source)\n",
    "    page_tree = open_and_parse_file(source)\n",
    "    \n",
    "    # get months and years combinations\n",
    "    yyyy_mms = get_months_and_years(page_tree)\n",
    "    \n",
    "    # analyze page tree and create rows    \n",
    "    rows = []\n",
    "    for entry in vertical_slicing(page_tree):\n",
    "        current_row = Row(page_tree, entry)\n",
    "        rows.append(current_row)\n",
    "    \n",
    "    # generate tei file\n",
    "    tei_file = source.replace(\".xml\", \"-tei.xml\").replace(\"/source/\", \"/tei_output/\")\n",
    "    \n",
    "    # java doit être installé\n",
    "    print(\"starting conversion\")\n",
    "    !java -jar $path_to_saxon -xsl:$path_to_xsl -s:$source -o:$tei_file\n",
    "    print(\"conversion finished\")\n",
    "    \n",
    "    # modify tei file and save it #TODO control validity\n",
    "    out_file_name, out_file_content = modify_tei_file(tei_file, rows, yyyy_mms)\n",
    "    \n",
    "    # save file\n",
    "    print(f\"saving to {out_file_name}\")\n",
    "    save_file(out_file_name, out_file_content)\n",
    "    out_files.append(out_file_name)"
   ]
  },
  {
   "cell_type": "markdown",
   "id": "06c20ad4-1122-41f5-bff9-d566f2ba0e50",
   "metadata": {},
   "source": [
    "## [opt] 3.3 Controler la validité des fichiers XML TEI"
   ]
  },
  {
   "cell_type": "markdown",
   "id": "0636e30c-2876-4038-97e9-93053debf49f",
   "metadata": {},
   "source": [
    "Attention, construire l'objet \"RelaxNG\" est atrocement long..."
   ]
  },
  {
   "cell_type": "code",
   "execution_count": 15,
   "id": "d76125ab-8828-4e3a-b065-4cd9cee81b28",
   "metadata": {},
   "outputs": [],
   "source": [
    "#path_to_rng = os.path.join(\".\", os.path.join(\"schema\", \"LEPIDEMO.rng\"))\n",
    "#rng_doc = etree.parse(path_to_rng)\n",
    "#relaxng = etree.RelaxNG(rng_doc)"
   ]
  },
  {
   "cell_type": "code",
   "execution_count": 16,
   "id": "20b90615-a29e-4c7f-be25-b1219823bbc5",
   "metadata": {},
   "outputs": [],
   "source": [
    "#def validator(xml_file_name, relaxng):    \n",
    "#    try:\n",
    "#        tree = etree.parse(xml_file_name)\n",
    "#    except etree.XMLSyntaxError as e:\n",
    "#        print(f\"Error parsing {xml_file_name}:\", e.strerror, sep=\"\\n\")\n",
    "#        return False\n",
    "#    if relaxng.validate(tree):\n",
    "#        return True"
   ]
  },
  {
   "cell_type": "code",
   "execution_count": 17,
   "id": "3e6b969d-ee2b-45c3-b590-42a04b56a246",
   "metadata": {},
   "outputs": [],
   "source": [
    "#for file in tqdm(out_files):\n",
    "#    # control validity\n",
    "#    print(f\"Controling validity of {out_file_name}\")\n",
    "#    if rng_val.validator(out_file_name, path_to_rng):\n",
    "#        print(\"validity: ok\")\n",
    "#    else:\n",
    "#        print(\"validity: failed!\")"
   ]
  },
  {
   "cell_type": "markdown",
   "id": "20a0e87a-acbc-4aaa-a968-3ae6881b403e",
   "metadata": {},
   "source": [
    "### [opt] 3.3 Génération d'une archive"
   ]
  },
  {
   "cell_type": "code",
   "execution_count": 18,
   "id": "da80a828-9427-45ef-bf96-14c06fb04d88",
   "metadata": {},
   "outputs": [],
   "source": [
    "# ------------------\n",
    "#if running on colab\n",
    "# zip the content of tei4publisher/\n",
    "#!zip -j content/tei4publisher.zip -r content/tei4publisher/\n",
    "# zip the content of tei_output/\n",
    "#!zip -j content/tei_output.zip -r content/tei_output/"
   ]
  }
 ],
 "metadata": {
  "kernelspec": {
   "display_name": "Python 3 (ipykernel)",
   "language": "python",
   "name": "python3"
  },
  "language_info": {
   "codemirror_mode": {
    "name": "ipython",
    "version": 3
   },
   "file_extension": ".py",
   "mimetype": "text/x-python",
   "name": "python",
   "nbconvert_exporter": "python",
   "pygments_lexer": "ipython3",
   "version": "3.8.10"
  }
 },
 "nbformat": 4,
 "nbformat_minor": 5
}
